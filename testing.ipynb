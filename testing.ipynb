{
 "metadata": {
  "language_info": {
   "codemirror_mode": {
    "name": "ipython",
    "version": 3
   },
   "file_extension": ".py",
   "mimetype": "text/x-python",
   "name": "python",
   "nbconvert_exporter": "python",
   "pygments_lexer": "ipython3",
   "version": "3.7.9-final"
  },
  "orig_nbformat": 2,
  "kernelspec": {
   "name": "python3",
   "display_name": "Python 3"
  }
 },
 "nbformat": 4,
 "nbformat_minor": 2,
 "cells": [
  {
   "cell_type": "code",
   "execution_count": 10,
   "metadata": {},
   "outputs": [
    {
     "output_type": "stream",
     "name": "stdout",
     "text": [
      "downloading aclImdb_v1.tar.gz\n",
      "aclImdb_v1.tar.gz: 100%|██████████| 84.1M/84.1M [00:11<00:00, 7.24MB/s]\n"
     ]
    }
   ],
   "source": [
    "import torch\n",
    "from torchtext import data, datasets\n",
    "\n",
    "TEXT = data.Field(tokenize='spacy')\n",
    "LABEL = data.LabelField(dtype=torch.float)\n",
    "train_data, _ = datasets.IMDB.splits(root='data', TEXT, LABEL)"
   ]
  },
  {
   "cell_type": "code",
   "execution_count": 13,
   "metadata": {},
   "outputs": [
    {
     "output_type": "stream",
     "name": "stdout",
     "text": [
      "{'text': ['A', 'tragically', 'wonderful', 'movie', '...', 'brings', 'us', 'to', 'a', 'Japan', 'that', 'does', 'not', 'exist', 'anymore', '.', 'Despite', 'Hollywood', \"'s\", 'technical', 'expertise', ',', 'I', 'have', 'yet', 'to', 'see', 'a', '(', 'hollywood', ')', 'movie', 'that', 'can', 'match', 'the', 'authenticity', 'of', 'the', 'atmosphere', 'in', 'this', 'small', 'town', 'by', 'the', 'river', 'near', 'the', 'sea', '...', 'Tom', 'Cruise', \"'s\", 'The', 'Last', 'Samurai', 'looked', 'liked', 'the', 'last', 'installment', 'of', 'the', 'Lord', 'of', 'The', 'Rings', 'in', 'trying', 'to', 'capture', 'rural', 'Old', 'Japan.<br', '/><br', '/>If', 'you', 'like', 'serene', 'but', 'intense', 'story', 'lines', ',', 'this', 'is', 'a', 'must', 'see', 'film', '.', 'It', 'will', 'be', 'a', 'respite', 'from', 'hollow', 'flashy', 'films', 'much', 'like', 'the', 'last', '1000', 'blockbusters', 'you', 'saw', '.', 'I', 'think', 'this', 'is', 'one', 'of', 'Kurosawa', \"'s\", 'better', 'stories.<br', '/><br', '/>Even', 'if', 'it', \"'s\", 'a', 'movie', 'about', 'geishas', 'and', 'brothels', 'and', 'the', 'complicated', 'rules', 'that', 'govern', 'life', 'in', 'such', 'settings', ',', 'it', 'did', 'not', 'turn', 'into', 'a', 'skin', 'flick', '.', 'The', 'characters', 'are', 'full', 'of', 'depth', 'and', 'act', 'with', 'much', 'intensity', '.'], 'label': 'pos'}\n"
     ]
    }
   ],
   "source": [
    "print(vars(train_data.examples[0]))"
   ]
  },
  {
   "cell_type": "code",
   "execution_count": 16,
   "metadata": {},
   "outputs": [],
   "source": [
    "VOCAB_SIZE = 10_000\n",
    "TEXT.build_vocab(train_data, max_size = VOCAB_SIZE)\n",
    "LABEL.build_vocab(train_data)"
   ]
  },
  {
   "cell_type": "code",
   "execution_count": 21,
   "metadata": {
    "tags": [
     "outputPrepend"
    ]
   },
   "outputs": [
    {
     "output_type": "stream",
     "name": "stdout",
     "text": [
      "820, 'Monica': 8821, 'Nope': 8822, \"O'Neill\": 8823, 'Particularly': 8824, 'Payne': 8825, 'Pecker': 8826, 'Pia': 8827, 'Prison': 8828, 'Producer': 8829, 'R.': 8830, 'Sebastian': 8831, 'Seuss': 8832, 'Shin': 8833, 'Sunrise': 8834, 'Surprisingly': 8835, 'T&A': 8836, 'Theodore': 8837, 'Throw': 8838, 'Travis': 8839, 'Val': 8840, 'Wesley': 8841, 'Whereas': 8842, 'Yeti': 8843, 'accidental': 8844, 'admiration': 8845, 'admirer': 8846, 'admission': 8847, 'ants': 8848, 'assistance': 8849, 'assumes': 8850, 'avenge': 8851, 'bachelor': 8852, 'cameraman': 8853, 'cannon': 8854, 'client': 8855, 'coast': 8856, 'comeback': 8857, 'confuse': 8858, 'convention': 8859, 'death.<br': 8860, 'demeanor': 8861, 'detached': 8862, 'diner': 8863, 'drift': 8864, 'drowning': 8865, 'duel': 8866, 'em': 8867, 'enduring': 8868, 'fades': 8869, 'faint': 8870, 'fashions': 8871, 'flip': 8872, 'flowing': 8873, 'fodder': 8874, 'foster': 8875, 'gathering': 8876, 'henchmen': 8877, 'highway': 8878, 'hostage': 8879, 'hunted': 8880, 'impending': 8881, 'infinitely': 8882, 'interesting.<br': 8883, 'irritated': 8884, 'it`s': 8885, 'karate': 8886, 'masked': 8887, 'maximum': 8888, 'melancholy': 8889, 'north': 8890, 'overtones': 8891, 'parrot': 8892, 'part.<br': 8893, 'paths': 8894, 'permanent': 8895, 'preaching': 8896, 'pretends': 8897, 'professionals': 8898, 'progression': 8899, 'prone': 8900, 'raunchy': 8901, 'redneck': 8902, 'remainder': 8903, 'robbed': 8904, 'robotic': 8905, 'sales': 8906, 'scratching': 8907, 'sections': 8908, 'serum': 8909, 'shameful': 8910, 'sheep': 8911, 'sitcoms': 8912, 'slashers': 8913, 'slut': 8914, 'spice': 8915, 'spit': 8916, 'spotlight': 8917, 'suave': 8918, 'testing': 8919, 'tools': 8920, 'tower': 8921, 'transport': 8922, 'turtle': 8923, 'unconventional': 8924, 'underdeveloped': 8925, 'uneasy': 8926, 'vapid': 8927, 'ward': 8928, 'weekly': 8929, 'wheel': 8930, 'wrestler': 8931, '/>David': 8932, '1958': 8933, 'Bert': 8934, 'Bonanza': 8935, 'Bronte': 8936, 'CAN': 8937, 'Chainsaw': 8938, 'Championship': 8939, 'Clarence': 8940, 'Compared': 8941, 'Dallas': 8942, 'Doug': 8943, 'Dunst': 8944, 'END': 8945, 'Edmund': 8946, 'Egyptian': 8947, 'Entertainment': 8948, 'Evening': 8949, 'Everett': 8950, 'Farrah': 8951, 'Fritz': 8952, 'Frost': 8953, 'Gena': 8954, 'Hostel': 8955, 'Irving': 8956, 'LIKE': 8957, 'Lindy': 8958, 'Loved': 8959, 'MORE': 8960, 'Makes': 8961, 'Marvin': 8962, 'Melbourne': 8963, 'Monsters': 8964, 'Norris': 8965, 'Panahi': 8966, 'Patty': 8967, 'Pauline': 8968, 'Paz': 8969, 'Peckinpah': 8970, 'Penny': 8971, 'Segal': 8972, 'Sheridan': 8973, 'Spoiler': 8974, 'Travolta': 8975, 'Vaughn': 8976, 'accompanying': 8977, 'ambiance': 8978, 'automatic': 8979, 'awakening': 8980, 'babes': 8981, 'battling': 8982, 'breathe': 8983, 'brides': 8984, 'brush': 8985, 'budding': 8986, 'carpet': 8987, 'cast.<br': 8988, 'celebrate': 8989, 'censorship': 8990, 'cheering': 8991, 'chops': 8992, 'circa': 8993, 'cohesive': 8994, 'colony': 8995, 'complications': 8996, 'convenient': 8997, 'crashed': 8998, 'damned': 8999, 'defending': 9000, 'defining': 9001, 'degrees': 9002, 'desk': 9003, 'dictator': 9004, 'distinction': 9005, 'distinctive': 9006, 'dominate': 9007, 'edges': 9008, 'effortlessly': 9009, 'elected': 9010, 'enormously': 9011, 'epitome': 9012, 'excellence': 9013, 'failures': 9014, 'fairness': 9015, 'feast': 9016, 'fever': 9017, 'fraud': 9018, 'genre.<br': 9019, 'goat': 9020, 'heap': 9021, 'hum': 9022, 'ideals': 9023, 'incidental': 9024, 'kindly': 9025, 'labeled': 9026, 'manipulated': 9027, 'meteor': 9028, 'midget': 9029, 'mud': 9030, 'notices': 9031, 'nutshell': 9032, 'observation': 9033, 'own.<br': 9034, 'pairing': 9035, 'parodies': 9036, 'policemen': 9037, 'practical': 9038, 'prank': 9039, 'programme': 9040, 'prostitution': 9041, 'quaint': 9042, 'qualifies': 9043, 'raid': 9044, 'reported': 9045, 'respond': 9046, 'rivalry': 9047, 'rivals': 9048, 'sane': 9049, 'sang': 9050, 'screened': 9051, 'secure': 9052, 'sensual': 9053, 'sinks': 9054, 'slim': 9055, 'snowman': 9056, 'sober': 9057, 'socially': 9058, 'spaghetti': 9059, 'stuff.<br': 9060, 'subsequently': 9061, 'tacked': 9062, 'tended': 9063, 'timed': 9064, 'transparent': 9065, 'unnatural': 9066, 'update': 9067, 'warehouse': 9068, 'warrant': 9069, 'watching.<br': 9070, 'weirdness': 9071, 'whites': 9072, 'whore': 9073, 'woefully': 9074, 'yawn': 9075, '........': 9076, '/>Best': 9077, '/>P.S.': 9078, 'Aniston': 9079, 'Barker': 9080, 'Barnes': 9081, 'Baron': 9082, 'Bend': 9083, 'Brit': 9084, 'Connie': 9085, 'Coppola': 9086, 'December': 9087, 'Dern': 9088, 'Fagin': 9089, 'Faye': 9090, 'Gandolfini': 9091, 'Government': 9092, 'Gretchen': 9093, 'Hanzo': 9094, 'I.': 9095, 'Kiss': 9096, 'LOL': 9097, 'MacMurray': 9098, 'Mae': 9099, 'Martian': 9100, 'Mister': 9101, 'Noam': 9102, 'Norton': 9103, 'Paradise': 9104, 'Pink': 9105, 'Plummer': 9106, 'Rated': 9107, 'Rodney': 9108, 'Shatner': 9109, 'Shrek': 9110, 'Stop': 9111, 'Taxi': 9112, 'Totally': 9113, 'Train': 9114, 'Truth': 9115, 'Using': 9116, 'Vanilla': 9117, 'Vincenzo': 9118, 'Within': 9119, 'Words': 9120, 'abomination': 9121, 'ads': 9122, 'annoyance': 9123, 'associate': 9124, 'back.<br': 9125, 'beforehand': 9126, 'betrayed': 9127, 'billing': 9128, 'blames': 9129, 'blockbusters': 9130, 'borrow': 9131, 'bubble': 9132, 'cells': 9133, 'choir': 9134, 'classmates': 9135, 'concentration': 9136, 'confines': 9137, 'conveying': 9138, 'counterparts': 9139, 'digging': 9140, 'discipline': 9141, 'disco': 9142, 'distorted': 9143, 'divided': 9144, 'diving': 9145, 'dumber': 9146, 'employees': 9147, 'encouraged': 9148, 'engine': 9149, 'ever.<br': 9150, 'fabric': 9151, 'fiery': 9152, 'file': 9153, 'filmography': 9154, 'fires': 9155, 'flame': 9156, 'framing': 9157, 'frank': 9158, 'frog': 9159, 'gallery': 9160, 'garage': 9161, 'grating': 9162, 'gruff': 9163, 'himself.<br': 9164, 'hometown': 9165, 'idealistic': 9166, 'influential': 9167, 'informs': 9168, 'insert': 9169, 'inspector': 9170, 'investment': 9171, 'iron': 9172, 'job.<br': 9173, 'joining': 9174, 'laboratory': 9175, 'laden': 9176, 'madman': 9177, 'manic': 9178, 'networks': 9179, 'offense': 9180, 'orphan': 9181, 'outrageously': 9182, 'outset': 9183, 'perverse': 9184, 'playful': 9185, 'predecessors': 9186, 'principles': 9187, 'prologue': 9188, 'protection': 9189, 'pursuing': 9190, 'radiation': 9191, 'reasoning': 9192, 'reject': 9193, 'responds': 9194, 'ruled': 9195, 'salvation': 9196, 'sensitivity': 9197, 'shirts': 9198, 'signature': 9199, 'slugs': 9200, 'solved': 9201, 'spaceship': 9202, 'sporting': 9203, 'stirring': 9204, 'stoned': 9205, 'structured': 9206, 'sucking': 9207, 'sustain': 9208, 'tolerance': 9209, 'transforms': 9210, 'transplant': 9211, 'uncertain': 9212, 'vigilante': 9213, 'yells': 9214, '/>Besides': 9215, '/>Both': 9216, '/>this': 9217, '1920': 9218, '1957': 9219, '26': 9220, 'Abu': 9221, 'Ang': 9222, 'Animated': 9223, 'Apollo': 9224, 'Bear': 9225, 'Box': 9226, 'Brandon': 9227, 'Buffy': 9228, 'Burgess': 9229, 'Chen': 9230, 'Cop': 9231, 'Curse': 9232, 'Duck': 9233, 'Dunne': 9234, 'Emmy': 9235, 'Episode': 9236, 'Express': 9237, 'Extras': 9238, 'Fair': 9239, 'Floriane': 9240, 'Geoffrey': 9241, 'Globe': 9242, 'Hans': 9243, 'Heat': 9244, 'Hilton': 9245, 'Honor': 9246, 'Huh': 9247, 'Jungle': 9248, 'Kilmer': 9249, 'Kramer': 9250, 'Late': 9251, 'Lindsey': 9252, 'Malden': 9253, 'Mama': 9254, 'Marcus': 9255, 'Martians': 9256, 'Meadows': 9257, 'Mile': 9258, 'Mission': 9259, 'Mummy': 9260, 'Muriel': 9261, 'Must': 9262, 'Northern': 9263, 'Off': 9264, 'Pertwee': 9265, 'Post': 9266, 'Sammi': 9267, 'Sandy': 9268, 'Silver': 9269, 'Simba': 9270, 'Stardust': 9271, 'T.': 9272, 'Taking': 9273, 'Tashan': 9274, 'Tomatoes': 9275, 'VCR': 9276, 'Warhols': 9277, 'Wu': 9278, 'Zelah': 9279, 'alarm': 9280, 'american': 9281, 'asset': 9282, 'atrocity': 9283, 'awarded': 9284, 'bartender': 9285, 'bimbo': 9286, 'bitchy': 9287, 'blunt': 9288, 'bondage': 9289, 'casted': 9290, 'ceiling': 9291, 'collaboration': 9292, 'collapse': 9293, 'commander': 9294, 'conclusions': 9295, 'cowardly': 9296, 'cracks': 9297, 'cringing': 9298, 'criticisms': 9299, 'crowded': 9300, 'cunning': 9301, 'deeds': 9302, 'depend': 9303, 'determine': 9304, 'disregard': 9305, 'drawings': 9306, 'dreaming': 9307, 'economy': 9308, 'emphasize': 9309, 'entertains': 9310, 'examine': 9311, 'experts': 9312, 'fierce': 9313, 'fixed': 9314, 'forgiveness': 9315, 'freeze': 9316, 'functions': 9317, 'gorilla': 9318, 'hairy': 9319, 'hallucinations': 9320, 'happen.<br': 9321, 'happenings': 9322, 'henchman': 9323, 'hollywood': 9324, 'hypnotic': 9325, 'identified': 9326, 'imitate': 9327, 'inexperienced': 9328, 'influences': 9329, 'interplay': 9330, 'jewelry': 9331, 'justification': 9332, 'kidnaps': 9333, 'later.<br': 9334, 'letdown': 9335, 'lethal': 9336, 'lifts': 9337, 'lighthearted': 9338, 'lurid': 9339, 'luxury': 9340, 'managing': 9341, 'mega': 9342, 'mixes': 9343, 'money.<br': 9344, 'mythical': 9345, 'nearest': 9346, 'ninety': 9347, 'noting': 9348, 'officially': 9349, 'organization': 9350, 'padding': 9351, 'peers': 9352, 'perspectives': 9353, 'pink': 9354, 'plagued': 9355, 'plotted': 9356, 'pompous': 9357, 'programming': 9358, 'regime': 9359, 'reunited': 9360, 'roles.<br': 9361, 'rousing': 9362, 'salvage': 9363, 'screenplays': 9364, 'shoved': 9365, 'sickness': 9366, 'slept': 9367, 'spelled': 9368, 'spiral': 9369, 'spoofs': 9370, 'stab': 9371, 'staging': 9372, 'stepmother': 9373, 'stripper': 9374, 'superfluous': 9375, 'symbols': 9376, 'tackle': 9377, 'temple': 9378, 'tits': 9379, 'torment': 9380, 'transported': 9381, 'tricked': 9382, 'unravel': 9383, 'uptight': 9384, 'varying': 9385, 'vet': 9386, 'wherever': 9387, 'worrying': 9388, '/>Acting': 9389, '/>Aside': 9390, '/>Everything': 9391, '/>Next': 9392, '/>Richard': 9393, '1949': 9394, '1964': 9395, '3-D': 9396, 'ANYTHING': 9397, 'Allan': 9398, 'Archer': 9399, 'Bart': 9400, 'Barton': 9401, 'Benny': 9402, 'Berenger': 9403, 'Bogdanovich': 9404, 'Brennan': 9405, 'Cheung': 9406, 'Clyde': 9407, 'Couple': 9408, 'Cruella': 9409, 'Culkin': 9410, 'Czech': 9411, 'Daria': 9412, 'Deadly': 9413, 'Deborah': 9414, 'Demon': 9415, 'Dillon': 9416, 'Egypt': 9417, 'Farnsworth': 9418, 'HIS': 9419, 'HOW': 9420, 'Harilal': 9421, 'Henderson': 9422, 'Holocaust': 9423, 'Internet': 9424, 'Joshua': 9425, 'Kornbluth': 9426, 'Ladies': 9427, 'Lila': 9428, 'Lin': 9429, 'Luthor': 9430, 'Mastroianni': 9431, 'Midler': 9432, 'Mira': 9433, 'Morse': 9434, 'Mostel': 9435, 'Orlando': 9436, 'Rabbit': 9437, 'Reality': 9438, 'Reese': 9439, 'Republic': 9440, 'Roach': 9441, 'Romania': 9442, 'Russians': 9443, 'Sammy': 9444, 'Scoop': 9445, 'Screenplay': 9446, 'Shaun': 9447, 'Somebody': 9448, 'Sorvino': 9449, 'Studio': 9450, 'Sudden': 9451, 'Tina': 9452, 'Toro': 9453, 'Tsui': 9454, 'Vienna': 9455, 'Yellow': 9456, 'Yep': 9457, 'Zodiac': 9458, 'abstract': 9459, 'acclaim': 9460, 'adultery': 9461, 'advances': 9462, 'aircraft': 9463, 'anguish': 9464, 'armor': 9465, 'around.<br': 9466, 'awful.<br': 9467, 'awry': 9468, 'bleeding': 9469, 'boards': 9470, 'bombed': 9471, 'boobs': 9472, 'boots': 9473, 'borrows': 9474, 'burial': 9475, 'butchered': 9476, 'chock': 9477, 'click': 9478, 'closure': 9479, 'combining': 9480, 'conflicted': 9481, 'continuously': 9482, 'contributes': 9483, 'convent': 9484, 'corporation': 9485, 'courageous': 9486, 'curiously': 9487, 'cursed': 9488, 'deck': 9489, 'dedication': 9490, 'denying': 9491, 'derived': 9492, 'destination': 9493, 'disappoints': 9494, 'dive': 9495, 'drugged': 9496, 'drummer': 9497, 'earns': 9498, 'east': 9499, 'engineer': 9500, 'ensue': 9501, 'fighters': 9502, 'finely': 9503, 'flower': 9504, 'foreboding': 9505, 'gathered': 9506, 'genetic': 9507, 'graduate': 9508, 'hi': 9509, 'identities': 9510, 'impressions': 9511, 'inconsistencies': 9512, 'inhabit': 9513, 'lays': 9514, 'lingering': 9515, 'locale': 9516, 'magazines': 9517, 'maintaining': 9518, 'messing': 9519, 'miraculously': 9520, 'mobster': 9521, 'mocking': 9522, 'moments.<br': 9523, 'mustache': 9524, 'observed': 9525, 'officials': 9526, 'operate': 9527, 'opposition': 9528, 'overboard': 9529, 'overshadowed': 9530, 'paired': 9531, 'placement': 9532, 'pole': 9533, 'portions': 9534, 'possible.<br': 9535, 'powered': 9536, 'profoundly': 9537, 'promoting': 9538, 'prostitutes': 9539, 'rant': 9540, 'representing': 9541, 'restraint': 9542, 'robbing': 9543, 'rolls': 9544, 'scriptwriter': 9545, 'see.<br': 9546, 'sensibilities': 9547, 'seriousness': 9548, 'showcases': 9549, 'sibling': 9550, 'sites': 9551, 'somethings': 9552, 'sophistication': 9553, 'soup': 9554, 'spells': 9555, 'spider': 9556, 'spontaneous': 9557, 'stares': 9558, 'strained': 9559, 'stricken': 9560, 'supreme': 9561, 'surround': 9562, 'switches': 9563, 'systems': 9564, 'theatres': 9565, 'thug': 9566, 'tolerate': 9567, 'torturing': 9568, 'towns': 9569, 'watcher': 9570, 'willingly': 9571, 'wrongly': 9572, 'yarn': 9573, '/>9/10': 9574, '/>THE': 9575, '/>Those': 9576, ':-)': 9577, 'AWAY': 9578, 'Airplane': 9579, 'Ali': 9580, 'Anyways': 9581, 'Azumi': 9582, 'Beetle': 9583, 'Bishop': 9584, 'Booker': 9585, 'Bunch': 9586, 'Cause': 9587, 'Crime': 9588, 'Diaz': 9589, 'Due': 9590, 'Dukakis': 9591, 'Fawcett': 9592, 'Flavia': 9593, 'Forbes': 9594, 'Forest': 9595, 'Forrest': 9596, 'Forsythe': 9597, 'Fun': 9598, 'Gang': 9599, 'Granger': 9600, 'Greatest': 9601, 'Hand': 9602, 'Him': 9603, 'Hobgoblins': 9604, 'Holes': 9605, 'Holland': 9606, 'Horse': 9607, 'IMHO': 9608, 'JUST': 9609, 'Katie': 9610, 'Keanu': 9611, 'Knowing': 9612, 'Lansbury': 9613, 'Ledger': 9614, 'List': 9615, 'Lorre': 9616, 'Lt': 9617, 'Marx': 9618, 'Maugham': 9619, 'Maurice': 9620, 'Melinda': 9621, 'Muni': 9622, 'NIGHT': 9623, 'Natasha': 9624, 'Nation': 9625, 'Palestinian': 9626, 'Reno': 9627, 'Rice': 9628, 'Sarne': 9629, 'Sense': 9630, 'Soldiers': 9631, 'Spade': 9632, 'Stevenson': 9633, 'Sykes': 9634, 'TWO': 9635, 'Twin': 9636, 'Valerie': 9637, 'Welch': 9638, 'Zhang': 9639, 'a.k.a': 9640, 'aboard': 9641, 'airing': 9642, 'athletic': 9643, 'attendant': 9644, 'aura': 9645, 'authors': 9646, 'baddie': 9647, 'baked': 9648, 'bald': 9649, 'believability': 9650, 'bothers': 9651, 'bullies': 9652, 'captive': 9653, 'categories': 9654, 'chemical': 9655, 'cinematographic': 9656, 'cloth': 9657, 'clouds': 9658, 'coal': 9659, 'condemned': 9660, 'confirmed': 9661, 'confronts': 9662, 'conniving': 9663, 'cons': 9664, 'consumed': 9665, 'crooked': 9666, 'crooks': 9667, 'decency': 9668, 'defy': 9669, 'developments': 9670, 'distinctly': 9671, 'divine': 9672, 'doc': 9673, 'dopey': 9674, 'drain': 9675, 'drastically': 9676, 'efficient': 9677, 'egg': 9678, 'expresses': 9679, 'extraordinarily': 9680, 'fulfilling': 9681, 'gate': 9682, 'gently': 9683, 'gravity': 9684, 'grossly': 9685, 'illustrate': 9686, 'increase': 9687, 'increasing': 9688, 'independence': 9689, 'inform': 9690, 'intellectually': 9691, 'intelligently': 9692, 'jack': 9693, 'jerky': 9694, 'joint': 9695, 'judgement': 9696, 'laced': 9697, 'limp': 9698, 'lists': 9699, 'locate': 9700, 'loner': 9701, 'manipulate': 9702, 'manners': 9703, 'marrying': 9704, 'mediocrity': 9705, 'monologues': 9706, 'motel': 9707, 'nonexistent': 9708, 'ongoing': 9709, 'operating': 9710, 'optimism': 9711, 'others.<br': 9712, 'owe': 9713, 'padded': 9714, 'prefers': 9715, 'presume': 9716, 'proceed': 9717, 'profit': 9718, 'puzzled': 9719, 'reckless': 9720, 'register': 9721, 'replacing': 9722, 'representative': 9723, 'rhyme': 9724, 'richly': 9725, 'sack': 9726, 'sacrifices': 9727, 'sassy': 9728, 'scarier': 9729, 'scattered': 9730, 'sensation': 9731, 'sensational': 9732, 'shady': 9733, 'shelter': 9734, 'shelves': 9735, 'shrill': 9736, 'significantly': 9737, 'simpler': 9738, 'slash': 9739, 'sniper': 9740, 'sparks': 9741, 'spinning': 9742, 'spotted': 9743, 'standpoint': 9744, 'steaming': 9745, 'steer': 9746, 'subdued': 9747, 'supermarket': 9748, 'tables': 9749, 'thereof': 9750, 'thirds': 9751, 'todays': 9752, 'uninspiring': 9753, 'unleashed': 9754, 'unwilling': 9755, 'vanity': 9756, 'vibe': 9757, 'virtue': 9758, 'waters': 9759, 'whip': 9760, 'widower': 9761, 'witted': 9762, 'worm': 9763, 'worship': 9764, '/>Grade': 9765, '1938': 9766, '1965': 9767, '85': 9768, 'Ahmad': 9769, 'Alba': 9770, 'Ally': 9771, 'Apes': 9772, 'Aztec': 9773, 'BLOOD': 9774, 'Bean': 9775, 'Belle': 9776, 'Between': 9777, 'Blonde': 9778, 'Boogie': 9779, 'Cape': 9780, 'Celeste': 9781, 'Celine': 9782, 'Chang': 9783, 'Christensen': 9784, 'Clutter': 9785, 'Coast': 9786, 'Coleman': 9787, 'Coming': 9788, 'Cortez': 9789, 'Crenna': 9790, 'DVD.<br': 9791, 'Dani': 9792, 'Darius': 9793, 'Della': 9794, 'Dickinson': 9795, 'Dyke': 9796, 'Ex': 9797, 'Fanning': 9798, 'Future': 9799, 'Glory': 9800, 'Govinda': 9801, 'Gram': 9802, 'Grave': 9803, 'Hale': 9804, 'Harlin': 9805, 'Hence': 9806, 'Hogan': 9807, 'Izzard': 9808, 'Keitel': 9809, 'Kells': 9810, 'Korda': 9811, 'Kusturica': 9812, 'LDS': 9813, 'Lanza': 9814, 'Lars': 9815, 'Latino': 9816, 'Light': 9817, 'Match': 9818, 'McAdams': 9819, 'McDermott': 9820, 'Mills': 9821, 'Neeson': 9822, 'Oprah': 9823, 'PEOPLE': 9824, 'Pavarotti': 9825, 'Peterson': 9826, 'Portman': 9827, 'Rider': 9828, 'Rivers': 9829, 'Rudd': 9830, 'Say': 9831, 'Schwarzenegger': 9832, 'Sholay': 9833, 'Shop': 9834, 'Society': 9835, 'Tobe': 9836, 'Tolkien': 9837, 'Towers': 9838, 'Trying': 9839, 'Twelve': 9840, 'Warriors': 9841, 'Weaver': 9842, 'Zealand': 9843, 'abroad': 9844, 'accomplishment': 9845, 'ae': 9846, 'alcoholism': 9847, 'amoral': 9848, 'animations': 9849, 'applause': 9850, 'arrow': 9851, 'associates': 9852, 'auteur': 9853, 'badness': 9854, 'believer': 9855, 'bills': 9856, 'bloke': 9857, 'boost': 9858, 'bye': 9859, 'cannibals': 9860, 'capitalism': 9861, 'championship': 9862, 'civilians': 9863, 'cloak': 9864, 'comprised': 9865, 'cynicism': 9866, 'dodgy': 9867, 'downbeat': 9868, 'echo': 9869, 'echoes': 9870, 'electricity': 9871, 'electronic': 9872, 'encourages': 9873, 'enough.<br': 9874, 'fable': 9875, 'fewer': 9876, 'fiasco': 9877, 'flamboyant': 9878, 'fulfill': 9879, 'fur': 9880, 'fuss': 9881, 'gays': 9882, 'glow': 9883, 'grandma': 9884, 'grant': 9885, 'grisly': 9886, 'groundbreaking': 9887, 'happier': 9888, 'heartless': 9889, 'heir': 9890, 'helmet': 9891, 'herrings': 9892, 'icons': 9893, 'icy': 9894, 'immigrants': 9895, 'imply': 9896, 'imprisoned': 9897, 'injustice': 9898, 'irrational': 9899, 'knocking': 9900, 'languages': 9901, 'launched': 9902, 'lean': 9903, 'leaps': 9904, 'liberties': 9905, 'lure': 9906, 'man.<br': 9907, 'marijuana': 9908, 'muscle': 9909, 'nerdy': 9910, 'original.<br': 9911, 'outlaw': 9912, 'overtly': 9913, 'overwrought': 9914, 'paragraph': 9915, 'patriotic': 9916, 'penis': 9917, 'perceived': 9918, 'percent': 9919, 'peril': 9920, 'photograph': 9921, 'pistol': 9922, 'playboy': 9923, 'pleasures': 9924, 'poet': 9925, 'potent': 9926, 'predicted': 9927, 'premiered': 9928, 'prolific': 9929, 'prolonged': 9930, 'proportions': 9931, 'protecting': 9932, 'proudly': 9933, 'pub': 9934, 'purse': 9935, 'quirks': 9936, 'raging': 9937, 'ranging': 9938, 'ravishing': 9939, 'razor': 9940, 'rebellion': 9941, 'recurring': 9942, 'relates': 9943, 'relaxing': 9944, 'retirement': 9945, 'retrieve': 9946, 'righteous': 9947, 'rockets': 9948, 'rotting': 9949, 'satisfactory': 9950, 'sensibility': 9951, 'shiny': 9952, 'shout': 9953, 'slaughtered': 9954, 'slips': 9955, 'stabs': 9956, 'stadium': 9957, 'submarine': 9958, 'succession': 9959, 'supportive': 9960, 'supports': 9961, 'sweeping': 9962, 'threads': 9963, 'tiger': 9964, 'traveled': 9965, 'unconscious': 9966, 'undercover': 9967, 'understandably': 9968, 'unnerving': 9969, 'voyage': 9970, 'year.<br': 9971, 'zoom': 9972, '/>Who': 9973, '0/10': 9974, '1931': 9975, 'Afghanistan': 9976, 'Alexandra': 9977, 'Beth': 9978, 'Caesar': 9979, 'Chevy': 9980, 'Cillian': 9981, 'Connolly': 9982, 'Connor': 9983, 'County': 9984, 'Danning': 9985, 'Delia': 9986, 'Dietrich': 9987, 'Dogs': 9988, 'Doris': 9989, 'Durbin': 9990, 'Eddy': 9991, 'Elephant': 9992, 'Elisha': 9993, 'Filmed': 9994, 'Fourth': 9995, 'Freedom': 9996, 'Furious': 9997, 'GOD': 9998, 'Garden': 9999, 'Glenda': 10000, 'HOUSE': 10001}), 'vectors': None}\n"
     ]
    }
   ],
   "source": [
    "print(vars(TEXT.vocab))"
   ]
  },
  {
   "cell_type": "code",
   "execution_count": 25,
   "metadata": {},
   "outputs": [
    {
     "output_type": "error",
     "ename": "TypeError",
     "evalue": "__init__() missing 1 required positional argument: 'embedding_dim'",
     "traceback": [
      "\u001b[0;31m---------------------------------------------------------------------------\u001b[0m",
      "\u001b[0;31mTypeError\u001b[0m                                 Traceback (most recent call last)",
      "\u001b[0;32m<ipython-input-25-4ad7f0eea82e>\u001b[0m in \u001b[0;36m<module>\u001b[0;34m\u001b[0m\n\u001b[1;32m      2\u001b[0m \u001b[0;34m\u001b[0m\u001b[0m\n\u001b[1;32m      3\u001b[0m \u001b[0mvocab\u001b[0m \u001b[0;34m=\u001b[0m \u001b[0mTEXT\u001b[0m\u001b[0;34m.\u001b[0m\u001b[0mvocab\u001b[0m\u001b[0;34m\u001b[0m\u001b[0;34m\u001b[0m\u001b[0m\n\u001b[0;32m----> 4\u001b[0;31m \u001b[0membed\u001b[0m \u001b[0;34m=\u001b[0m \u001b[0mnn\u001b[0m\u001b[0;34m.\u001b[0m\u001b[0mEmbedding\u001b[0m\u001b[0;34m(\u001b[0m\u001b[0mlen\u001b[0m\u001b[0;34m(\u001b[0m\u001b[0mvocab\u001b[0m\u001b[0;34m)\u001b[0m\u001b[0;34m)\u001b[0m\u001b[0;34m\u001b[0m\u001b[0;34m\u001b[0m\u001b[0m\n\u001b[0m\u001b[1;32m      5\u001b[0m \u001b[0;34m\u001b[0m\u001b[0m\n",
      "\u001b[0;31mTypeError\u001b[0m: __init__() missing 1 required positional argument: 'embedding_dim'"
     ]
    }
   ],
   "source": [
    "from torch import nn\n",
    "\n",
    "vocab = TEXT.vocab\n",
    "embed = nn.Embedding(len(vocab))\n",
    "\n"
   ]
  },
  {
   "cell_type": "code",
   "execution_count": 6,
   "metadata": {},
   "outputs": [
    {
     "output_type": "execute_result",
     "data": {
      "text/plain": [
       "19"
      ]
     },
     "metadata": {},
     "execution_count": 6
    }
   ],
   "source": [
    "from torchvision import datasets, models, transforms\n",
    "len([x.id for x in datasets.Cityscapes.classes if not x.ignore_in_eval])\n"
   ]
  },
  {
   "cell_type": "code",
   "execution_count": 3,
   "metadata": {},
   "outputs": [
    {
     "output_type": "stream",
     "name": "stdout",
     "text": [
      "Files already downloaded and verified\n",
      "torch.Size([50000, 3, 32, 32])\n"
     ]
    }
   ],
   "source": [
    "import numpy as np\n",
    "import pickle\n",
    "import torch\n",
    "from matplotlib import pyplot as plt\n",
    "from tqdm import tqdm\n",
    "from torch import nn\n",
    "from torch import optim\n",
    "from torchvision import datasets, models, transforms\n",
    "from my_adam_optimizer import MyAdamOptimizer\n",
    "\n",
    "transform = transforms.Compose([transforms.ToTensor(),\n",
    "                                transforms.Normalize((0.4914, 0.4822, 0.4465),\n",
    "                                                     (0.2023, 0.1994, 0.2010))])\n",
    "train_data = datasets.CIFAR10('data/CIFAR/', download=True,\n",
    "                                  train=True, transform=transform)\n",
    "data_loader = torch.utils.data.DataLoader(train_data,\n",
    "                                         batch_size=len(train_data),\n",
    "                                         shuffle=True,\n",
    "                                         num_workers=1)\n",
    "\n",
    "for x, y in data_loader:\n",
    "    X.reshape((-1, 3*32*32))\n",
    "    # compute the covariance of the image data\n",
    "    cov = np.cov(X, rowvar=True)   # cov is (N, N)\n",
    "    # singular value decomposition\n",
    "    U,S,V = np.linalg.svd(cov)     # U is (N, N), S is (N,)\n",
    "        # build the ZCA matrix\n",
    "    epsilon = 1e-5\n",
    "    zca_matrix = np.dot(U, np.dot(np.diag(1.0/np.sqrt(S + epsilon)), U.T))\n",
    "    pickle.dump(zca_matrix, open('zca.p', 'wb'))\n",
    "\n",
    "    print(x.shape)"
   ]
  },
  {
   "cell_type": "code",
   "execution_count": null,
   "metadata": {},
   "outputs": [],
   "source": []
  }
 ]
}